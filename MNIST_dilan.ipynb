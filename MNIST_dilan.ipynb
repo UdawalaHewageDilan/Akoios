{
 "cells": [
  {
   "cell_type": "markdown",
   "metadata": {},
   "source": [
    "```yaml\n",
    "titan: v1\n",
    "service:\n",
    "  image: datascience\n",
    "  machine:\n",
    "    cpu: 4\n",
    "    memory: 2048MB\n",
    "  command:\n",
    "    - !pip install requirements.txt\n",
    "```"
   ]
  },
  {
   "cell_type": "code",
   "execution_count": 1,
   "metadata": {},
   "outputs": [],
   "source": [
    "import json\n",
    "import torch\n",
    "import torch.nn.functional as F\n",
    "import cv2\n",
    "import numpy as np"
   ]
  },
  {
   "cell_type": "code",
   "execution_count": 2,
   "metadata": {},
   "outputs": [],
   "source": [
    "model = torch.load(\"Best_model2.pth\")"
   ]
  },
  {
   "cell_type": "code",
   "execution_count": 3,
   "metadata": {},
   "outputs": [],
   "source": [
    "img = cv2.imread(\"no.jpg\", 0)\n",
    "img_list = img.tolist()"
   ]
  },
  {
   "cell_type": "code",
   "execution_count": 4,
   "metadata": {
    "colab": {},
    "colab_type": "code",
    "id": "K3GJcgNJCQPJ"
   },
   "outputs": [],
   "source": [
    "# Mock request object for local API testing\n",
    "headers = {\n",
    "'content-type': 'application/json'\n",
    "}\n",
    "body = json.dumps({\n",
    "  \"data\": img_list\n",
    "})\n",
    "REQUEST = json.dumps({ 'headers': headers, 'body': body })"
   ]
  },
  {
   "cell_type": "code",
   "execution_count": 6,
   "metadata": {
    "ExecuteTime": {
     "end_time": "2021-07-13T19:29:06.473549Z",
     "start_time": "2021-07-13T19:29:06.394461Z"
    },
    "colab": {
     "base_uri": "https://localhost:8080/",
     "height": 34
    },
    "colab_type": "code",
    "executionInfo": {
     "elapsed": 1058,
     "status": "ok",
     "timestamp": 1580751290135,
     "user": {
      "displayName": "Javier Fuentes Ibáñez",
      "photoUrl": "https://lh3.googleusercontent.com/a-/AAuE7mBoMcBzbjtRUR1TJGkAccQaDoQ_RHn6n04zVoLA=s64",
      "userId": "07330169876145884685"
     },
     "user_tz": -60
    },
    "id": "Pm5bvzlxIfbi",
    "outputId": "81514239-d671-46f9-a2f0-29f0e5159e38"
   },
   "outputs": [
    {
     "name": "stdout",
     "output_type": "stream",
     "text": [
      "tensor([[-6.2242, -3.8328, -1.5510, -2.4185, -3.0728, -3.7293, -6.3531, -2.3134,\n",
      "         -0.7298, -3.8026]], grad_fn=<LogSoftmaxBackward>)\n"
     ]
    }
   ],
   "source": [
    "# POST /prediction\n",
    "body = json.loads(REQUEST)['body']\n",
    "# predict the cluster for new samples. Function to be exposed through Titan\n",
    "input_params = json.loads(body)['data']\n",
    "input_params = np.array(input_params, dtype=\"float32\")\n",
    "tensor_img = torch.from_numpy(input_params).reshape(784, 1)\n",
    "tensor_img = F.normalize(tensor_img)\n",
    "tensor_img = tensor_img.view((-1, 784))\n",
    "print(model(tensor_img))"
   ]
  }
 ],
 "metadata": {
  "colab": {
   "collapsed_sections": [],
   "name": "energy_generation_kpmg.ipynb",
   "provenance": []
  },
  "kernelspec": {
   "display_name": "Python 3",
   "language": "python",
   "name": "python3"
  },
  "language_info": {
   "codemirror_mode": {
    "name": "ipython",
    "version": 3
   },
   "file_extension": ".py",
   "mimetype": "text/x-python",
   "name": "python",
   "nbconvert_exporter": "python",
   "pygments_lexer": "ipython3",
   "version": "3.8.8"
  },
  "varInspector": {
   "cols": {
    "lenName": 16,
    "lenType": 16,
    "lenVar": 40
   },
   "kernels_config": {
    "python": {
     "delete_cmd_postfix": "",
     "delete_cmd_prefix": "del ",
     "library": "var_list.py",
     "varRefreshCmd": "print(var_dic_list())"
    },
    "r": {
     "delete_cmd_postfix": ") ",
     "delete_cmd_prefix": "rm(",
     "library": "var_list.r",
     "varRefreshCmd": "cat(var_dic_list()) "
    }
   },
   "types_to_exclude": [
    "module",
    "function",
    "builtin_function_or_method",
    "instance",
    "_Feature"
   ],
   "window_display": false
  }
 },
 "nbformat": 4,
 "nbformat_minor": 1
}
